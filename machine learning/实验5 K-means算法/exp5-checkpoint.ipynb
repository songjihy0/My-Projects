{
 "cells": [
  {
   "cell_type": "code",
   "execution_count": 2,
   "metadata": {},
   "outputs": [
    {
     "data": {
      "image/png": "[encoded data removed]",
      "text/plain": [
       "<Figure size 432x288 with 1 Axes>"
      ]
     },
     "metadata": {
      "needs_background": "light"
     },
     "output_type": "display_data"
    }
   ],
   "source": [
    "import numpy as np\n",
    "import matplotlib.pyplot as plt\n",
    "import pandas as pd\n",
    "import random\n",
    "import math\n",
    "\n",
    "def setdatas(fileName):\n",
    "    datas = []\n",
    "    with open(fileName) as txtData:\n",
    "        lines=txtData.readlines()\n",
    "        for line in lines:\n",
    "            a = []\n",
    "            for x in line.split():\n",
    "                a.append(float(x))\n",
    "            datas.append(a)\n",
    "    datas = np.array(datas)\n",
    "    plt.scatter(datas[:,0], datas[:,1])\n",
    "    datas = np.mat(datas)\n",
    "    return datas\n",
    "\n",
    "def cluster(datas,k):\n",
    "    m = np.shape(datas)[0]#获取数据集行数\n",
    "    n = np.shape(datas)[1]#获取数据集行数\n",
    "    x = []\n",
    "    center = np.mat(np.zeros((k,n)))#创建质心矩阵\n",
    "    for j in range(m):\n",
    "        x.append(j)\n",
    "    a = random.sample(x,k)#选取随机数\n",
    "    for i in range(k):\n",
    "        center[i]=datas[a[i]]\n",
    "    return center\n",
    "\n",
    "def kMeans(datas,k):\n",
    "    m = np.shape(datas)[0]#获取数据集行数\n",
    "    n = np.shape(datas)[1]#读取数据列数/属性数\n",
    "    C = np.mat(np.zeros((m,2)))#分配类别用C\n",
    "    datas2 = np.mat(np.zeros((m+k,3)))#画图用\n",
    "    origin = cluster(datas,k)#初始质心矩阵\n",
    "    tingBiao = True\n",
    "    while tingBiao:\n",
    "        tingBiao = False\n",
    "        for i in range(m):#遍历所有数据\n",
    "            minDist = np.inf\n",
    "            minIndex = -1\n",
    "            for j in range(k):#遍历所有的初始质心\n",
    "                distJI = np.sqrt(np.sum(np.power(origin[j,:] - datas[i,:], 2)))#计算当前几何距离\n",
    "                if distJI < minDist:\n",
    "                    minDist = distJI #更新最小距离\n",
    "                    minIndex = j #与之对应的质心\n",
    "            if C[i,0] != minIndex: \n",
    "                tingBiao = True\n",
    "            C[i,:] = minIndex,minDist\n",
    "            datas2[i,:] = datas[i,0],datas[i,1],minIndex\n",
    "        for i in range(k):\n",
    "            ptsInClust = datas[np.nonzero(C[:,0].A==i)[0]]\n",
    "            origin[i,:] = np.mean(ptsInClust, axis=0)\n",
    "    return origin, C, datas2\n",
    "\n",
    "def cavas(datas2,center):\n",
    "    for i in range(len(center)):\n",
    "        datas2[-i-1] = center[i,0],center[i,1],4\n",
    "    m = np.shape(datas2)[0]#获取数据集行数\n",
    "    for i in range(m):\n",
    "        if datas2[i,2] == 4:\n",
    "            plt.scatter(datas2[i,0], datas2[i,1], color=\"red\")\n",
    "        if datas2[i,2] == 0:\n",
    "            plt.scatter(datas2[i,0], datas2[i,1], color=\"blue\")\n",
    "        if datas2[i,2] == 1:\n",
    "            plt.scatter(datas2[i,0], datas2[i,1], color=\"yellow\")\n",
    "        if datas2[i,2] == 2:\n",
    "            plt.scatter(datas2[i,0], datas2[i,1], color=\"green\")\n",
    "        if datas2[i,2] == 3:\n",
    "            plt.scatter(datas2[i,0], datas2[i,1], color=\"black\")\n",
    "\n",
    "datas = setdatas('kmeans_data.txt')\n",
    "center,C,datas2=kMeans(datas,4)\n",
    "cavas(datas2,center)\n",
    "            "
   ]
  },
  {
   "cell_type": "code",
   "execution_count": null,
   "metadata": {},
   "outputs": [],
   "source": []
  }
 ],
 "metadata": {
  "kernelspec": {
   "display_name": "Python 3",
   "language": "python",
   "name": "python3"
  },
  "language_info": {
   "codemirror_mode": {
    "name": "ipython",
    "version": 3
   },
   "file_extension": ".py",
   "mimetype": "text/x-python",
   "name": "python",
   "nbconvert_exporter": "python",
   "pygments_lexer": "ipython3",
   "version": "3.9.0"
  }
 },
 "nbformat": 4,
 "nbformat_minor": 2
}
